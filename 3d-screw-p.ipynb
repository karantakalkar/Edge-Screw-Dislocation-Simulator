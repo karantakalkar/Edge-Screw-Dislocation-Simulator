{
 "nbformat": 4,
 "nbformat_minor": 2,
 "metadata": {
  "language_info": {
   "name": "python",
   "codemirror_mode": {
    "name": "ipython",
    "version": 3
   },
   "version": "2.7.17-final"
  },
  "orig_nbformat": 2,
  "file_extension": ".py",
  "mimetype": "text/x-python",
  "name": "python",
  "npconvert_exporter": "python",
  "pygments_lexer": "ipython3",
  "version": 3,
  "kernelspec": {
   "name": "python38364bitbaseconda4920b20ab17d4c40b5453d6ead4af86c",
   "display_name": "Python 3.8.3 64-bit ('base': conda)"
  }
 },
 "cells": [
  {
   "cell_type": "code",
   "execution_count": 1,
   "metadata": {},
   "outputs": [],
   "source": [
    "# Matplotlib Imports\n",
    "import matplotlib.pyplot as plt\n",
    "import matplotlib.animation as ani\n",
    "from mpl_toolkits.mplot3d import Axes3D\n",
    "\n",
    "# Numpy and Math Imports\n",
    "import numpy as np\n",
    "import math\n",
    "\n",
    "# QT framework for GUI.\n",
    "%matplotlib qt\n",
    "\n",
    "plt.ion() # turn on interactive mode"
   ]
  },
  {
   "cell_type": "code",
   "execution_count": 2,
   "metadata": {},
   "outputs": [
    {
     "output_type": "execute_result",
     "data": {
      "text/plain": "<matplotlib.animation.FuncAnimation at 0x7f63e9a483a0>"
     },
     "metadata": {},
     "execution_count": 2
    }
   ],
   "source": [
    "# 3D Screw Dislocation (Propagation) Stimulation\n",
    "\n",
    "# ------- Animation Functions -------- #\n",
    "\n",
    "def animate(f,a,limit):\n",
    "    redraw_motifs(f,a,limit)\n",
    "    redraw_vector(f,a,limit)\n",
    "\n",
    "def redraw_motifs(f,a,limit):\n",
    "    global motifs\n",
    "    x = a + math.floor(f/25)                # dislocation propagating variable\n",
    "    for i in range(1, x):\n",
    "        for j in range(1, a):\n",
    "            for k in range(1, limit+1):\n",
    "                if i >= a:\n",
    "                    r = f - (i-a+1)*25      # adjusting the dip of atoms by their frame start points\n",
    "                else:\n",
    "                    r = f\n",
    "                ax.lines.remove(motifs[i-1][j-1][k-1][0])\n",
    "                motifs[i-1][j-1][k-1] = ax.plot(i,j,k-r/100, 'bo')\n",
    "\n",
    "def redraw_vector(f,a,limit):\n",
    "    global vector\n",
    "    ax.lines.remove(vector[0][0])\n",
    "    vector[0] = ax.plot([1,1], [1,1], [limit, limit-f/100], 'g')\n",
    "\n",
    "# ------- Plot Initialization -------- #     \n",
    "\n",
    "limit = 6\n",
    "\n",
    "a = 4 # dislocation width\n",
    "\n",
    "fig = plt.figure()\n",
    "\n",
    "ax = fig.add_subplot(111, projection='3d')\n",
    "ax.set_xlim(-1,limit+1)\n",
    "ax.set_ylim(-1,limit+1)\n",
    "ax.set_zlim(-1,limit+1)\n",
    "\n",
    "ax.set_xlabel('x axis')\n",
    "ax.set_ylabel('y axis')\n",
    "ax.set_zlabel('z axis')\n",
    "\n",
    "ax.grid(color='grey', linestyle='-', linewidth=0.25, alpha=0.5)\n",
    "\n",
    "ax.view_init(elev= 0, azim = -90)\n",
    "\n",
    "vector = [ax.plot([],[],[]), ax.plot(1,1,limit, 'g^')]\n",
    "\n",
    "motifs = [[['O' for col in range(limit)] for col in range(limit)] for row in range(limit)]\n",
    "\n",
    "# normal atoms\n",
    "for i in range(1, limit+1):\n",
    "    for j in range(1, limit+1):\n",
    "        for k in range(1, limit+1):\n",
    "            motifs[i-1][j-1][k-1] = ax.plot(i,j,k, 'ro')\n",
    "            \n",
    "# dislocation atoms\n",
    "for i in range(1, a):\n",
    "    for j in range(1, a):\n",
    "        for k in range(1, limit+1):\n",
    "            ax.lines.remove(motifs[i-1][j-1][k-1][0])\n",
    "            motifs[i-1][j-1][k-1] = ax.plot(i,j,k, 'bo')\n",
    "\n",
    "# ------- Display Animation or Plot -------- #\n",
    "\n",
    "ani.FuncAnimation(fig,animate,frames=100,fargs=[a,limit], interval = 100, repeat = False)\n",
    "\n",
    "#plt.show()"
   ]
  },
  {
   "cell_type": "code",
   "execution_count": null,
   "metadata": {},
   "outputs": [],
   "source": []
  }
 ]
}